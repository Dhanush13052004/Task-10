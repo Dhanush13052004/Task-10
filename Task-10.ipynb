{
 "cells": [
  {
   "cell_type": "code",
   "execution_count": 2,
   "id": "e0b58741",
   "metadata": {},
   "outputs": [
    {
     "name": "stdout",
     "output_type": "stream",
     "text": [
      "Confusion Matrix:\n",
      "[[4 1]\n",
      " [0 9]]\n",
      "Accuracy: 0.9285714285714286\n",
      "Precision (Yes): 0.9\n",
      "Recall (Yes): 1.0\n",
      "F1 Score (Yes): 0.9473684210526316\n"
     ]
    },
    {
     "name": "stderr",
     "output_type": "stream",
     "text": [
      "C:\\Users\\Hi\\anaconda3\\lib\\site-packages\\sklearn\\base.py:450: UserWarning: X does not have valid feature names, but OneHotEncoder was fitted with feature names\n",
      "  warnings.warn(\n"
     ]
    }
   ],
   "source": [
    "import pandas as pd\n",
    "from sklearn.preprocessing import OneHotEncoder\n",
    "from sklearn.compose import ColumnTransformer\n",
    "from sklearn.naive_bayes import CategoricalNB\n",
    "from sklearn.metrics import confusion_matrix, accuracy_score, precision_score, recall_score, f1_score\n",
    "\n",
    "data = [\n",
    "    ['Sunny', 'Hot', 'High', 'Weak', 'No'],\n",
    "    ['Sunny', 'Hot', 'High', 'Strong', 'No'],\n",
    "    ['Overcast', 'Hot', 'High', 'Weak', 'Yes'],\n",
    "    ['Rain', 'Mild', 'High', 'Weak', 'Yes'],\n",
    "    ['Rain', 'Cool', 'Normal', 'Weak', 'Yes'],\n",
    "    ['Rain', 'Cool', 'Normal', 'Strong', 'No'],\n",
    "    ['Overcast', 'Cool', 'Normal', 'Strong', 'Yes'],\n",
    "    ['Sunny', 'Mild', 'High', 'Weak', 'No'],\n",
    "    ['Sunny', 'Cool', 'Normal', 'Weak', 'Yes'],\n",
    "    ['Rain', 'Mild', 'Normal', 'Weak', 'Yes'],\n",
    "    ['Sunny', 'Mild', 'Normal', 'Strong', 'Yes'],\n",
    "    ['Overcast', 'Mild', 'High', 'Strong', 'Yes'],\n",
    "    ['Overcast', 'Hot', 'Normal', 'Weak', 'Yes'],\n",
    "    ['Rain', 'Mild', 'High', 'Strong', 'No']\n",
    "]\n",
    "\n",
    "df = pd.DataFrame(data, columns=['Outlook', 'Temp', 'Humidity', 'Wind', 'Decision'])\n",
    "\n",
    "X = df.drop(columns=['Decision'])\n",
    "y = df['Decision']\n",
    "\n",
    "ct = ColumnTransformer(transformers=[('encoder', OneHotEncoder(), [0, 1, 2, 3])], remainder='passthrough')\n",
    "X_encoded = ct.fit_transform(X)\n",
    "\n",
    "clf = CategoricalNB()\n",
    "\n",
    "clf.fit(X_encoded, y)\n",
    "\n",
    "\n",
    "new_instances = [\n",
    "    ['Sunny', 'Mild', 'High', 'Weak'],\n",
    "    ['Overcast', 'Mild', 'Normal', 'Strong'],\n",
    "    ['Rain', 'Cool', 'Normal', 'Weak']\n",
    "]\n",
    "new_instances_encoded = ct.transform(new_instances)\n",
    "predictions = clf.predict(new_instances_encoded)\n",
    "\n",
    "conf_matrix = confusion_matrix(y, clf.predict(X_encoded))\n",
    "accuracy = accuracy_score(y, clf.predict(X_encoded))\n",
    "precision = precision_score(y, clf.predict(X_encoded), pos_label='Yes')\n",
    "recall = recall_score(y, clf.predict(X_encoded), pos_label='Yes')\n",
    "f1 = f1_score(y, clf.predict(X_encoded), pos_label='Yes')\n",
    "\n",
    "print(\"Confusion Matrix:\")\n",
    "print(conf_matrix)\n",
    "print(\"Accuracy:\", accuracy)\n",
    "print(\"Precision (Yes):\", precision)\n",
    "print(\"Recall (Yes):\", recall)\n",
    "print(\"F1 Score (Yes):\", f1)\n"
   ]
  },
  {
   "cell_type": "code",
   "execution_count": 3,
   "id": "12fe551d",
   "metadata": {},
   "outputs": [
    {
     "name": "stdout",
     "output_type": "stream",
     "text": [
      "Accuracy: 1.0\n",
      "Precision: 1.0\n",
      "Recall: 1.0\n",
      "F1 Score: 1.0\n"
     ]
    }
   ],
   "source": [
    "from sklearn.datasets import load_iris\n",
    "from sklearn.model_selection import train_test_split\n",
    "from sklearn.naive_bayes import GaussianNB\n",
    "from sklearn.metrics import accuracy_score, precision_score, recall_score, f1_score\n",
    "\n",
    "iris = load_iris()\n",
    "X = iris.data  \n",
    "y = iris.target  \n",
    "\n",
    "X_train, X_test, y_train, y_test = train_test_split(X, y, test_size=0.2, random_state=42)\n",
    "\n",
    "clf = GaussianNB()\n",
    "clf.fit(X_train, y_train)\n",
    "\n",
    "y_pred = clf.predict(X_test)\n",
    "\n",
    "accuracy = accuracy_score(y_test, y_pred)\n",
    "precision = precision_score(y_test, y_pred, average='weighted')\n",
    "recall = recall_score(y_test, y_pred, average='weighted')\n",
    "f1 = f1_score(y_test, y_pred, average='weighted')\n",
    "\n",
    "print(\"Accuracy:\", accuracy)\n",
    "print(\"Precision:\", precision)\n",
    "print(\"Recall:\", recall)\n",
    "print(\"F1 Score:\", f1)\n"
   ]
  },
  {
   "cell_type": "code",
   "execution_count": null,
   "id": "68ca879f",
   "metadata": {},
   "outputs": [],
   "source": []
  }
 ],
 "metadata": {
  "kernelspec": {
   "display_name": "Python 3 (ipykernel)",
   "language": "python",
   "name": "python3"
  },
  "language_info": {
   "codemirror_mode": {
    "name": "ipython",
    "version": 3
   },
   "file_extension": ".py",
   "mimetype": "text/x-python",
   "name": "python",
   "nbconvert_exporter": "python",
   "pygments_lexer": "ipython3",
   "version": "3.9.13"
  }
 },
 "nbformat": 4,
 "nbformat_minor": 5
}
